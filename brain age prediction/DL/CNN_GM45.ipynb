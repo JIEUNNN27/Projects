{
 "cells": [
  {
   "cell_type": "code",
   "execution_count": null,
   "id": "f3b90c73",
   "metadata": {},
   "outputs": [],
   "source": [
    "import pandas as pd\n",
    "import numpy as np\n",
    "import os\n",
    "import tensorflow as tf\n",
    "from sklearn.model_selection import train_test_split\n",
    "from sklearn.metrics import mean_absolute_error\n",
    "import matplotlib.pyplot as plt"
   ]
  },
  {
   "cell_type": "code",
   "execution_count": 2,
   "id": "5df1f05d",
   "metadata": {},
   "outputs": [],
   "source": [
    "# 데이터셋 경로 설정\n",
    "dataset_path = './train_png_GM45'  # 데이터셋 폴더 경로\n",
    "excel_path = './Dataset.xlsx'  # 엑셀 파일 경로"
   ]
  },
  {
   "cell_type": "code",
   "execution_count": 3,
   "id": "16fef622",
   "metadata": {},
   "outputs": [],
   "source": [
    "# 하이퍼파라미터 설정\n",
    "image_size = (256, 256)  # 이미지 크기\n",
    "batch_size = 16\n",
    "epochs = 20"
   ]
  },
  {
   "cell_type": "code",
   "execution_count": 4,
   "id": "dd819458",
   "metadata": {},
   "outputs": [],
   "source": [
    "# 데이터셋 불러오기\n",
    "dataset = pd.read_excel(excel_path)\n",
    "\n",
    "image_files = [file for file in os.listdir(dataset_path) if file.endswith('.png')]"
   ]
  },
  {
   "cell_type": "code",
   "execution_count": 5,
   "id": "1659c514",
   "metadata": {},
   "outputs": [],
   "source": [
    "# 데이터셋 분할\n",
    "X_train_files, X_test_files, y_train, y_test = train_test_split(\n",
    "    image_files, dataset['Age'], test_size=0.2, random_state=42)"
   ]
  },
  {
   "cell_type": "code",
   "execution_count": 6,
   "id": "e5b7e23f",
   "metadata": {},
   "outputs": [],
   "source": [
    "# 이미지 전처리 함수 정의\n",
    "def preprocess_image(image_path):\n",
    "    image = tf.io.read_file(os.path.join(dataset_path, image_path))\n",
    "    image = tf.image.decode_png(image, channels=1)\n",
    "    image = tf.image.resize(image, image_size)\n",
    "    image = tf.cast(image, tf.float32) / 255.0\n",
    "    return image\n"
   ]
  },
  {
   "cell_type": "code",
   "execution_count": 7,
   "id": "d32d1bda",
   "metadata": {},
   "outputs": [],
   "source": [
    "# 데이터셋 생성 함수 정의\n",
    "def create_dataset(X_files, y_values):\n",
    "    images = [preprocess_image(file) for file in X_files]\n",
    "    images = tf.stack(images)\n",
    "    labels = np.array(y_values)\n",
    "    return images, labels\n"
   ]
  },
  {
   "cell_type": "code",
   "execution_count": 8,
   "id": "08e34c2a",
   "metadata": {},
   "outputs": [],
   "source": [
    "# 훈련 및 테스트 데이터셋 생성\n",
    "X_train, y_train = create_dataset(X_train_files, y_train)\n",
    "X_test, y_test = create_dataset(X_test_files, y_test)"
   ]
  },
  {
   "cell_type": "code",
   "execution_count": 9,
   "id": "784541c3",
   "metadata": {},
   "outputs": [
    {
     "data": {
      "text/plain": [
       "96"
      ]
     },
     "execution_count": 9,
     "metadata": {},
     "output_type": "execute_result"
    }
   ],
   "source": [
    "len(X_train)"
   ]
  },
  {
   "cell_type": "code",
   "execution_count": 10,
   "id": "b1f22c99",
   "metadata": {},
   "outputs": [],
   "source": [
    "# CNN 모델 정의\n",
    "model = tf.keras.Sequential([\n",
    "    tf.keras.layers.Conv2D(32, (3, 3), activation='relu', input_shape=(256, 256, 1)),\n",
    "    tf.keras.layers.MaxPooling2D((2, 2)),\n",
    "    tf.keras.layers.Conv2D(64, (3, 3), activation='relu'),\n",
    "    tf.keras.layers.MaxPooling2D((2, 2)),\n",
    "    tf.keras.layers.Conv2D(64, (3, 3), activation='relu'),\n",
    "    tf.keras.layers.Flatten(),\n",
    "    tf.keras.layers.Dense(64, activation='relu'),\n",
    "    tf.keras.layers.Dense(1)\n",
    "])"
   ]
  },
  {
   "cell_type": "code",
   "execution_count": 11,
   "id": "b287d7c0",
   "metadata": {},
   "outputs": [],
   "source": [
    "# 모델 컴파일\n",
    "model.compile(optimizer='adam', loss='mse')"
   ]
  },
  {
   "cell_type": "code",
   "execution_count": 12,
   "id": "a7a3fdc2",
   "metadata": {},
   "outputs": [
    {
     "name": "stdout",
     "output_type": "stream",
     "text": [
      "Epoch 1/20\n",
      "6/6 [==============================] - 3s 57ms/step - loss: 2106.7485 - val_loss: 462.8690\n",
      "Epoch 2/20\n",
      "6/6 [==============================] - 0s 25ms/step - loss: 947.5989 - val_loss: 476.4075\n",
      "Epoch 3/20\n",
      "6/6 [==============================] - 0s 23ms/step - loss: 668.6819 - val_loss: 490.8127\n",
      "Epoch 4/20\n",
      "6/6 [==============================] - 0s 27ms/step - loss: 576.9841 - val_loss: 404.1787\n",
      "Epoch 5/20\n",
      "6/6 [==============================] - 0s 28ms/step - loss: 519.7093 - val_loss: 456.8243\n",
      "Epoch 6/20\n",
      "6/6 [==============================] - 0s 25ms/step - loss: 490.4240 - val_loss: 332.5450\n",
      "Epoch 7/20\n",
      "6/6 [==============================] - 0s 28ms/step - loss: 424.8172 - val_loss: 266.0990\n",
      "Epoch 8/20\n",
      "6/6 [==============================] - 0s 25ms/step - loss: 312.6102 - val_loss: 187.2485\n",
      "Epoch 9/20\n",
      "6/6 [==============================] - 0s 24ms/step - loss: 237.2885 - val_loss: 108.1599\n",
      "Epoch 10/20\n",
      "6/6 [==============================] - 0s 25ms/step - loss: 178.4449 - val_loss: 89.8911\n",
      "Epoch 11/20\n",
      "6/6 [==============================] - 0s 26ms/step - loss: 112.7117 - val_loss: 172.4731\n",
      "Epoch 12/20\n",
      "6/6 [==============================] - 0s 25ms/step - loss: 124.2483 - val_loss: 128.9047\n",
      "Epoch 13/20\n",
      "6/6 [==============================] - 0s 23ms/step - loss: 127.2734 - val_loss: 85.4056\n",
      "Epoch 14/20\n",
      "6/6 [==============================] - 0s 26ms/step - loss: 91.3944 - val_loss: 73.7242\n",
      "Epoch 15/20\n",
      "6/6 [==============================] - 0s 26ms/step - loss: 77.5812 - val_loss: 68.8063\n",
      "Epoch 16/20\n",
      "6/6 [==============================] - 0s 23ms/step - loss: 86.9581 - val_loss: 122.6392\n",
      "Epoch 17/20\n",
      "6/6 [==============================] - 0s 23ms/step - loss: 96.6202 - val_loss: 113.9378\n",
      "Epoch 18/20\n",
      "6/6 [==============================] - 0s 26ms/step - loss: 70.2621 - val_loss: 63.7827\n",
      "Epoch 19/20\n",
      "6/6 [==============================] - 0s 25ms/step - loss: 61.4512 - val_loss: 70.0936\n",
      "Epoch 20/20\n",
      "6/6 [==============================] - 0s 23ms/step - loss: 68.7330 - val_loss: 67.5864\n"
     ]
    }
   ],
   "source": [
    "# 모델 훈련\n",
    "history = model.fit(X_train, y_train, batch_size=batch_size, epochs=epochs, verbose=1, validation_data=(X_test, y_test))"
   ]
  },
  {
   "cell_type": "code",
   "execution_count": 13,
   "id": "9d3661e1",
   "metadata": {
    "scrolled": true
   },
   "outputs": [
    {
     "data": {
      "image/png": "[encoded data removed]",
      "text/plain": [
       "<Figure size 640x480 with 1 Axes>"
      ]
     },
     "metadata": {},
     "output_type": "display_data"
    }
   ],
   "source": [
    "# Train loss와 Test loss 그래프 출력\n",
    "plt.plot(history.history['loss'], label='Train Loss')\n",
    "plt.plot(history.history['val_loss'], label='Test Loss')\n",
    "plt.title('Model Loss')\n",
    "plt.xlabel('Epoch')\n",
    "plt.ylabel('Loss')\n",
    "plt.legend()\n",
    "plt.show()"
   ]
  },
  {
   "cell_type": "code",
   "execution_count": 14,
   "id": "32ebbf2a",
   "metadata": {},
   "outputs": [],
   "source": [
    "# 예측 결과 확인\n",
    "y_pred = model.predict(X_test)"
   ]
  },
  {
   "cell_type": "code",
   "execution_count": 15,
   "id": "2140760d",
   "metadata": {},
   "outputs": [
    {
     "name": "stdout",
     "output_type": "stream",
     "text": [
      "Mean Absolute Error (MAE): 6.8661744594573975\n"
     ]
    }
   ],
   "source": [
    "# 평가 지표 계산\n",
    "mae = mean_absolute_error(y_test, y_pred)\n",
    "print('Mean Absolute Error (MAE):', mae)"
   ]
  },
  {
   "cell_type": "markdown",
   "id": "b1c4554a",
   "metadata": {},
   "source": [
    "## cross_valdiation -> 실패, 수정 해야 함"
   ]
  },
  {
   "cell_type": "code",
   "execution_count": 17,
   "id": "a7e54f16",
   "metadata": {},
   "outputs": [],
   "source": [
    "import numpy as np\n",
    "from sklearn.model_selection import KFold\n",
    "from tensorflow.keras.preprocessing.image import ImageDataGenerator\n",
    "from tensorflow.keras.models import Sequential\n",
    "from tensorflow.keras.layers import Conv2D, MaxPooling2D, Flatten, Dense\n"
   ]
  },
  {
   "cell_type": "code",
   "execution_count": 18,
   "id": "14fc8ccc",
   "metadata": {},
   "outputs": [],
   "source": [
    "# 데이터셋 경로 설정\n",
    "dataset_path = './train_png_GM45'  # 데이터셋 폴더 경로\n",
    "excel_path = './Dataset.xlsx'  # 엑셀 파일 경로"
   ]
  },
  {
   "cell_type": "code",
   "execution_count": 19,
   "id": "fdac6a0b",
   "metadata": {},
   "outputs": [],
   "source": [
    "# 하이퍼파라미터 설정\n",
    "image_size = (256, 256)  # 이미지 크기\n",
    "batch_size = 16\n",
    "epochs = 20"
   ]
  },
  {
   "cell_type": "code",
   "execution_count": 20,
   "id": "b77559cb",
   "metadata": {},
   "outputs": [],
   "source": [
    "# 데이터셋 불러오기\n",
    "dataset = pd.read_excel(excel_path)\n",
    "\n",
    "image_files = [file for file in os.listdir(dataset_path) if file.endswith('.png')]"
   ]
  },
  {
   "cell_type": "code",
   "execution_count": 21,
   "id": "35a33d52",
   "metadata": {},
   "outputs": [],
   "source": [
    "# 데이터셋 분할\n",
    "X_train_files, X_test_files, y_train, y_test = train_test_split(\n",
    "    image_files, dataset['Age'], test_size=0.2, random_state=42)"
   ]
  },
  {
   "cell_type": "code",
   "execution_count": 22,
   "id": "b8223d28",
   "metadata": {},
   "outputs": [],
   "source": [
    "# 이미지 전처리 함수 정의\n",
    "def preprocess_image(image_path):\n",
    "    image = tf.io.read_file(os.path.join(dataset_path, image_path))\n",
    "    image = tf.image.decode_png(image, channels=1)\n",
    "    image = tf.image.resize(image, image_size)\n",
    "    image = tf.cast(image, tf.float32) / 255.0\n",
    "    return image"
   ]
  },
  {
   "cell_type": "code",
   "execution_count": 23,
   "id": "36c6324e",
   "metadata": {},
   "outputs": [],
   "source": [
    "# 데이터셋 생성 함수 정의\n",
    "def create_dataset(X_files, y_values):\n",
    "    images = [preprocess_image(file) for file in X_files]\n",
    "    images = tf.stack(images)\n",
    "    labels = np.array(y_values)\n",
    "    return images, labels"
   ]
  },
  {
   "cell_type": "code",
   "execution_count": 24,
   "id": "714e8af2",
   "metadata": {},
   "outputs": [],
   "source": [
    "# 훈련 및 테스트 데이터셋 생성\n",
    "X_train, y_train = create_dataset(X_train_files, y_train)\n",
    "X_test, y_test = create_dataset(X_test_files, y_test)"
   ]
  },
  {
   "cell_type": "code",
   "execution_count": 25,
   "id": "049730f6",
   "metadata": {},
   "outputs": [
    {
     "data": {
      "text/plain": [
       "96"
      ]
     },
     "execution_count": 25,
     "metadata": {},
     "output_type": "execute_result"
    }
   ],
   "source": [
    "len(X_train)"
   ]
  },
  {
   "cell_type": "code",
   "execution_count": 26,
   "id": "44e0a32a",
   "metadata": {},
   "outputs": [],
   "source": [
    "# 5-fold cross validation 수행\n",
    "kfold = KFold(n_splits=5, shuffle=True, random_state=42)\n",
    "\n",
    "fold = 1\n",
    "mae_scores = []"
   ]
  },
  {
   "cell_type": "code",
   "execution_count": 31,
   "id": "0526c0df",
   "metadata": {},
   "outputs": [],
   "source": [
    "X = np.array(X_train)\n",
    "y = np.array(y_train)"
   ]
  },
  {
   "cell_type": "code",
   "execution_count": null,
   "id": "722951c4",
   "metadata": {},
   "outputs": [],
   "source": []
  },
  {
   "cell_type": "code",
   "execution_count": 33,
   "id": "2de68860",
   "metadata": {},
   "outputs": [
    {
     "name": "stdout",
     "output_type": "stream",
     "text": [
      "Training on Fold: 6\n",
      "Epoch 1/20\n",
      "4/4 [==============================] - 1s 25ms/step - loss: 2352.6316\n",
      "Epoch 2/20\n",
      "4/4 [==============================] - 0s 23ms/step - loss: 837.7738\n",
      "Epoch 3/20\n",
      "4/4 [==============================] - 0s 22ms/step - loss: 951.7322\n",
      "Epoch 4/20\n",
      "4/4 [==============================] - 0s 21ms/step - loss: 654.5870\n",
      "Epoch 5/20\n",
      "4/4 [==============================] - 0s 20ms/step - loss: 613.6502\n",
      "Epoch 6/20\n",
      "4/4 [==============================] - 0s 22ms/step - loss: 584.7654\n",
      "Epoch 7/20\n",
      "4/4 [==============================] - 0s 22ms/step - loss: 517.7946\n",
      "Epoch 8/20\n",
      "4/4 [==============================] - 0s 22ms/step - loss: 546.3530\n",
      "Epoch 9/20\n",
      "4/4 [==============================] - 0s 23ms/step - loss: 528.3933\n",
      "Epoch 10/20\n",
      "4/4 [==============================] - 0s 22ms/step - loss: 518.5944\n",
      "Epoch 11/20\n",
      "4/4 [==============================] - 0s 21ms/step - loss: 515.3484\n",
      "Epoch 12/20\n",
      "4/4 [==============================] - 0s 20ms/step - loss: 494.8630\n",
      "Epoch 13/20\n",
      "4/4 [==============================] - 0s 21ms/step - loss: 502.3641\n",
      "Epoch 14/20\n",
      "4/4 [==============================] - 0s 20ms/step - loss: 500.6942\n",
      "Epoch 15/20\n",
      "4/4 [==============================] - 0s 23ms/step - loss: 492.1801\n",
      "Epoch 16/20\n",
      "4/4 [==============================] - 0s 24ms/step - loss: 496.4833\n",
      "Epoch 17/20\n",
      "4/4 [==============================] - 0s 23ms/step - loss: 472.6883\n",
      "Epoch 18/20\n",
      "4/4 [==============================] - 0s 17ms/step - loss: 523.7345\n",
      "Epoch 19/20\n",
      "4/4 [==============================] - 0s 16ms/step - loss: 544.8246\n",
      "Epoch 20/20\n",
      "4/4 [==============================] - 0s 20ms/step - loss: 506.3188\n"
     ]
    },
    {
     "data": {
      "image/png": "[encoded data removed]",
      "text/plain": [
       "<Figure size 640x480 with 1 Axes>"
      ]
     },
     "metadata": {},
     "output_type": "display_data"
    },
    {
     "name": "stdout",
     "output_type": "stream",
     "text": [
      "Fold 6 - MAE: 17.323521554470062\n",
      "Training on Fold: 7\n"
     ]
    },
    {
     "ename": "IndexError",
     "evalue": "index 61 is out of bounds for axis 0 with size 61",
     "output_type": "error",
     "traceback": [
      "\u001b[1;31m---------------------------------------------------------------------------\u001b[0m",
      "\u001b[1;31mIndexError\u001b[0m                                Traceback (most recent call last)",
      "Cell \u001b[1;32mIn[33], line 4\u001b[0m\n\u001b[0;32m      1\u001b[0m \u001b[38;5;28;01mfor\u001b[39;00m train_index, test_index \u001b[38;5;129;01min\u001b[39;00m kfold\u001b[38;5;241m.\u001b[39msplit(X_train):\n\u001b[0;32m      2\u001b[0m     \u001b[38;5;28mprint\u001b[39m(\u001b[38;5;124mf\u001b[39m\u001b[38;5;124m\"\u001b[39m\u001b[38;5;124mTraining on Fold: \u001b[39m\u001b[38;5;132;01m{\u001b[39;00mfold\u001b[38;5;132;01m}\u001b[39;00m\u001b[38;5;124m\"\u001b[39m)\n\u001b[1;32m----> 4\u001b[0m     X_train, X_test \u001b[38;5;241m=\u001b[39m \u001b[43mX_train\u001b[49m\u001b[43m[\u001b[49m\u001b[43mtrain_index\u001b[49m\u001b[43m]\u001b[49m, X_train[test_index]\n\u001b[0;32m      5\u001b[0m     y_train, y_test \u001b[38;5;241m=\u001b[39m y[train_index], y[test_index]\n\u001b[0;32m      7\u001b[0m     \u001b[38;5;66;03m# CNN 모델 정의\u001b[39;00m\n",
      "\u001b[1;31mIndexError\u001b[0m: index 61 is out of bounds for axis 0 with size 61"
     ]
    }
   ],
   "source": [
    "for train_index, test_index in kfold.split(X_train):\n",
    "    print(f\"Training on Fold: {fold}\")\n",
    "\n",
    "    X_train, X_test = X_train[train_index], X_train[test_index]\n",
    "    y_train, y_test = y[train_index], y[test_index]\n",
    "\n",
    "    # CNN 모델 정의\n",
    "    model = tf.keras.Sequential([\n",
    "        tf.keras.layers.Conv2D(32, (3, 3), activation='relu', input_shape=(256, 256, 1)),\n",
    "        tf.keras.layers.MaxPooling2D((2, 2)),\n",
    "        tf.keras.layers.Conv2D(64, (3, 3), activation='relu'),\n",
    "        tf.keras.layers.MaxPooling2D((2, 2)),\n",
    "        tf.keras.layers.Conv2D(64, (3, 3), activation='relu'),\n",
    "        tf.keras.layers.Flatten(),\n",
    "        tf.keras.layers.Dense(64, activation='relu'),\n",
    "        tf.keras.layers.Dense(1)\n",
    "    ])\n",
    "\n",
    "    # 모델 컴파일\n",
    "    model.compile(optimizer='adam', loss='mse')  # 손실 함수는 MSE를 사용\n",
    "\n",
    "    # 모델 훈련\n",
    "    history = model.fit(X_train, y_train, batch_size=batch_size, epochs=epochs, verbose=1)\n",
    "    \n",
    "    # 훈련 과정의 손실 그래프 그리기\n",
    "    plt.plot(history.history['loss'])\n",
    "    plt.title(f\"Fold {fold} - Training Loss\")\n",
    "    plt.xlabel('Epochs')\n",
    "    plt.ylabel('Loss')\n",
    "    plt.show()\n",
    "    \n",
    "    # 테스트 데이터로 예측 수행\n",
    "    y_pred = model.predict(X_test)\n",
    "\n",
    "    # MAE 계산 및 결과 출력\n",
    "    mae = np.mean(np.abs(y_test - y_pred))\n",
    "    mae_scores.append(mae)\n",
    "    print(f\"Fold {fold} - MAE: {mae}\")\n",
    "\n",
    "    fold += 1\n",
    "\n",
    "# 5-fold cross validation 결과 출력\n",
    "print(\"5-fold Cross Validation - Mean MAE:\", np.mean(mae_scores))"
   ]
  },
  {
   "cell_type": "code",
   "execution_count": null,
   "id": "c109f461",
   "metadata": {},
   "outputs": [],
   "source": [
    "# CNN 모델 정의\n",
    "model = tf.keras.Sequential([\n",
    "    tf.keras.layers.Conv2D(32, (3, 3), activation='relu', input_shape=(256, 256, 1)),\n",
    "    tf.keras.layers.MaxPooling2D((2, 2)),\n",
    "    tf.keras.layers.Conv2D(64, (3, 3), activation='relu'),\n",
    "    tf.keras.layers.MaxPooling2D((2, 2)),\n",
    "    tf.keras.layers.Conv2D(64, (3, 3), activation='relu'),\n",
    "    tf.keras.layers.Flatten(),\n",
    "    tf.keras.layers.Dense(64, activation='relu'),\n",
    "    tf.keras.layers.Dense(1)\n",
    "])"
   ]
  },
  {
   "cell_type": "code",
   "execution_count": null,
   "id": "96bd2766",
   "metadata": {},
   "outputs": [],
   "source": [
    "# 모델 컴파일\n",
    "model.compile(optimizer='adam', loss='mse')"
   ]
  },
  {
   "cell_type": "code",
   "execution_count": null,
   "id": "aa2106b8",
   "metadata": {},
   "outputs": [],
   "source": [
    "# 모델 훈련\n",
    "history = model.fit(X_train, y_train, batch_size=batch_size, epochs=epochs, verbose=1, validation_data=(X_test, y_test))"
   ]
  },
  {
   "cell_type": "code",
   "execution_count": null,
   "id": "1f8e70b1",
   "metadata": {},
   "outputs": [],
   "source": [
    "# Train loss와 Test loss 그래프 출력\n",
    "plt.plot(history.history['loss'], label='Train Loss')\n",
    "plt.plot(history.history['val_loss'], label='Test Loss')\n",
    "plt.title('Model Loss')\n",
    "plt.xlabel('Epoch')\n",
    "plt.ylabel('Loss')\n",
    "plt.legend()\n",
    "plt.show()"
   ]
  },
  {
   "cell_type": "code",
   "execution_count": null,
   "id": "6772e84f",
   "metadata": {},
   "outputs": [],
   "source": [
    "# 예측 결과 확인\n",
    "y_pred = model.predict(X_test)"
   ]
  },
  {
   "cell_type": "code",
   "execution_count": null,
   "id": "151d722b",
   "metadata": {},
   "outputs": [],
   "source": [
    "# 평가 지표 계산\n",
    "mae = mean_absolute_error(y_test, y_pred)\n",
    "print('Mean Absolute Error (MAE):', mae)"
   ]
  }
 ],
 "metadata": {
  "kernelspec": {
   "display_name": "test",
   "language": "python",
   "name": "test"
  },
  "language_info": {
   "codemirror_mode": {
    "name": "ipython",
    "version": 3
   },
   "file_extension": ".py",
   "mimetype": "text/x-python",
   "name": "python",
   "nbconvert_exporter": "python",
   "pygments_lexer": "ipython3",
   "version": "3.9.16"
  }
 },
 "nbformat": 4,
 "nbformat_minor": 5
}
