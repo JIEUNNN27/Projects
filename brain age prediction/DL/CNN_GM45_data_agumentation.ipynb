{
 "cells": [
  {
   "cell_type": "code",
   "execution_count": 1,
   "id": "232c8a01",
   "metadata": {},
   "outputs": [],
   "source": [
    "import pandas as pd\n",
    "import numpy as np\n",
    "import os\n",
    "import tensorflow as tf\n",
    "from sklearn.model_selection import train_test_split\n",
    "from sklearn.metrics import mean_absolute_error\n",
    "import matplotlib.pyplot as plt\n",
    "from tensorflow.keras.preprocessing.image import ImageDataGenerator\n"
   ]
  },
  {
   "cell_type": "code",
   "execution_count": 2,
   "id": "d069b2af",
   "metadata": {},
   "outputs": [],
   "source": [
    "# 데이터셋 경로 설정\n",
    "dataset_path = './train_png_GM45'  # 데이터셋 폴더 경로\n",
    "excel_path = './Dataset.xlsx'  # 엑셀 파일 경로"
   ]
  },
  {
   "cell_type": "code",
   "execution_count": 3,
   "id": "7ee4f46e",
   "metadata": {},
   "outputs": [],
   "source": [
    "# 하이퍼파라미터 설정\n",
    "image_size = (256, 256)  # 이미지 크기\n",
    "batch_size = 16\n",
    "epochs = 30"
   ]
  },
  {
   "cell_type": "code",
   "execution_count": 4,
   "id": "7d6e026a",
   "metadata": {},
   "outputs": [],
   "source": [
    "# 데이터셋 불러오기\n",
    "dataset = pd.read_excel(excel_path)\n",
    "\n",
    "image_files = [file for file in os.listdir(dataset_path) if file.endswith('.png')]"
   ]
  },
  {
   "cell_type": "code",
   "execution_count": 5,
   "id": "30d0ec2e",
   "metadata": {},
   "outputs": [],
   "source": [
    "# 데이터셋 분할\n",
    "X_train_files, X_test_files, y_train, y_test = train_test_split(\n",
    "    image_files, dataset['Age'], test_size=0.2, random_state=42)"
   ]
  },
  {
   "cell_type": "code",
   "execution_count": 6,
   "id": "800e25a2",
   "metadata": {},
   "outputs": [],
   "source": [
    "# 이미지 전처리 함수 정의\n",
    "def preprocess_image(image_path):\n",
    "    image = tf.io.read_file(os.path.join(dataset_path, image_path))\n",
    "    image = tf.image.decode_png(image, channels=1)\n",
    "    image = tf.image.resize(image, image_size)\n",
    "    image = tf.cast(image, tf.float32) / 255.0\n",
    "    return image\n"
   ]
  },
  {
   "cell_type": "code",
   "execution_count": 7,
   "id": "97e6fe2b",
   "metadata": {},
   "outputs": [],
   "source": [
    "# 데이터셋 생성 함수 정의\n",
    "def create_dataset(X_files, y_values):\n",
    "    images = [preprocess_image(file) for file in X_files]\n",
    "    images = tf.stack(images)\n",
    "    labels = np.array(y_values)\n",
    "    return images, labels\n"
   ]
  },
  {
   "cell_type": "code",
   "execution_count": 8,
   "id": "7dadd7dc",
   "metadata": {},
   "outputs": [],
   "source": [
    "# 훈련 및 테스트 데이터셋 생성\n",
    "X_train, y_train = create_dataset(X_train_files, y_train)\n",
    "X_test, y_test = create_dataset(X_test_files, y_test)"
   ]
  },
  {
   "cell_type": "code",
   "execution_count": 9,
   "id": "070aaf9f",
   "metadata": {},
   "outputs": [
    {
     "data": {
      "text/plain": [
       "96"
      ]
     },
     "execution_count": 9,
     "metadata": {},
     "output_type": "execute_result"
    }
   ],
   "source": [
    "len(X_train)"
   ]
  },
  {
   "cell_type": "code",
   "execution_count": 10,
   "id": "c1be0657",
   "metadata": {},
   "outputs": [],
   "source": [
    "# 데이터 증강 생성기 생성\n",
    "datagen = ImageDataGenerator(\n",
    "    rotation_range=20,  # 이미지 회전 범위\n",
    "    width_shift_range=0.1,  # 가로로 이동 범위\n",
    "    height_shift_range=0.1,  # 세로로 이동 범위\n",
    "    shear_range=0.2,  # 전단 변환 범위\n",
    "    zoom_range=0.2,  # 확대/축소 범위\n",
    "    \n",
    ")"
   ]
  },
  {
   "cell_type": "code",
   "execution_count": 11,
   "id": "cf1f2bbe",
   "metadata": {},
   "outputs": [],
   "source": [
    "# 훈련 데이터셋에 데이터 증강 적용\n",
    "augmented_X_train = []\n",
    "augmented_y_train = []"
   ]
  },
  {
   "cell_type": "code",
   "execution_count": 12,
   "id": "44f69fe3",
   "metadata": {},
   "outputs": [],
   "source": [
    "from tensorflow.python.ops.numpy_ops import np_config\n",
    "\n",
    "np_config.enable_numpy_behavior()\n",
    "\n",
    "for i in range(len(X_train)):\n",
    "    X = X_train[i]\n",
    "    y = y_train[i]\n",
    "    for _ in range(5):  # 각 이미지마다 5개의 증강 이미지 생성\n",
    "        augmented_X_train.append(datagen.random_transform(X))\n",
    "        augmented_y_train.append(y)"
   ]
  },
  {
   "cell_type": "code",
   "execution_count": 13,
   "id": "7ae2dbce",
   "metadata": {},
   "outputs": [],
   "source": [
    "augmented_X_train = np.array(augmented_X_train)\n",
    "augmented_y_train = np.array(augmented_y_train)"
   ]
  },
  {
   "cell_type": "code",
   "execution_count": 14,
   "id": "9bdf35df",
   "metadata": {},
   "outputs": [],
   "source": [
    "# 증강된 훈련 데이터셋과 원래의 훈련 데이터셋을 결합\n",
    "X_train = np.concatenate((X_train, augmented_X_train), axis=0)\n",
    "y_train = np.concatenate((y_train, augmented_y_train), axis=0)"
   ]
  },
  {
   "cell_type": "code",
   "execution_count": 15,
   "id": "ee8cf8ea",
   "metadata": {},
   "outputs": [
    {
     "data": {
      "text/plain": [
       "576"
      ]
     },
     "execution_count": 15,
     "metadata": {},
     "output_type": "execute_result"
    }
   ],
   "source": [
    "len(X_train)"
   ]
  },
  {
   "cell_type": "code",
   "execution_count": 16,
   "id": "fef7319f",
   "metadata": {},
   "outputs": [
    {
     "data": {
      "text/plain": [
       "24"
      ]
     },
     "execution_count": 16,
     "metadata": {},
     "output_type": "execute_result"
    }
   ],
   "source": [
    "len(X_test)"
   ]
  },
  {
   "cell_type": "code",
   "execution_count": 21,
   "id": "a165f63d",
   "metadata": {},
   "outputs": [],
   "source": [
    "# CNN 모델 정의\n",
    "model = tf.keras.Sequential([\n",
    "    tf.keras.layers.Conv2D(32, (3, 3), activation='relu', input_shape=(256, 256, 1)),\n",
    "    tf.keras.layers.MaxPooling2D((2, 2)),\n",
    "    tf.keras.layers.Conv2D(64, (3, 3), activation='relu'),\n",
    "    tf.keras.layers.MaxPooling2D((2, 2)),\n",
    "    tf.keras.layers.Conv2D(64, (3, 3), activation='relu'),\n",
    "    tf.keras.layers.Flatten(),\n",
    "    tf.keras.layers.Dense(64, activation='relu'),\n",
    "    tf.keras.layers.Dense(1)\n",
    "])"
   ]
  },
  {
   "cell_type": "code",
   "execution_count": 17,
   "id": "9775c4ee",
   "metadata": {},
   "outputs": [],
   "source": [
    "model = tf.keras.Sequential([\n",
    "    tf.keras.layers.Conv2D(32, (3, 3), activation='relu', input_shape=(256, 256, 1)),\n",
    "    tf.keras.layers.MaxPooling2D((2, 2)),\n",
    "    #tf.keras.layers.Dropout(0.25),  # Dropout 추가\n",
    "    tf.keras.layers.Conv2D(64, (3, 3), activation='relu'),\n",
    "    tf.keras.layers.MaxPooling2D((2, 2)),\n",
    "    #tf.keras.layers.Dropout(0.25),  # Dropout 추가\n",
    "    tf.keras.layers.Conv2D(64, (3, 3), activation='relu'),\n",
    "    tf.keras.layers.Flatten(),\n",
    "    tf.keras.layers.Dropout(0.25),  # Dropout 추가\n",
    "    tf.keras.layers.Dense(64, activation='relu'),\n",
    "    tf.keras.layers.Dense(1)\n",
    "])"
   ]
  },
  {
   "cell_type": "code",
   "execution_count": 18,
   "id": "37869aed",
   "metadata": {},
   "outputs": [],
   "source": [
    "# 모델 컴파일\n",
    "model.compile(optimizer='adam', loss='mse')"
   ]
  },
  {
   "cell_type": "code",
   "execution_count": 19,
   "id": "10dc98b5",
   "metadata": {},
   "outputs": [
    {
     "name": "stdout",
     "output_type": "stream",
     "text": [
      "Epoch 1/30\n",
      "36/36 [==============================] - 5s 41ms/step - loss: 881.2413 - val_loss: 503.4663\n",
      "Epoch 2/30\n",
      "36/36 [==============================] - 1s 35ms/step - loss: 553.9619 - val_loss: 360.1629\n",
      "Epoch 3/30\n",
      "36/36 [==============================] - 1s 34ms/step - loss: 491.3556 - val_loss: 260.1943\n",
      "Epoch 4/30\n",
      "36/36 [==============================] - 1s 33ms/step - loss: 330.8676 - val_loss: 113.3079\n",
      "Epoch 5/30\n",
      "36/36 [==============================] - 1s 34ms/step - loss: 216.3581 - val_loss: 94.8299\n",
      "Epoch 6/30\n",
      "36/36 [==============================] - 1s 35ms/step - loss: 108.3468 - val_loss: 68.1264\n",
      "Epoch 7/30\n",
      "36/36 [==============================] - 1s 34ms/step - loss: 88.6896 - val_loss: 66.0770\n",
      "Epoch 8/30\n",
      "36/36 [==============================] - 1s 34ms/step - loss: 77.7344 - val_loss: 90.5581\n",
      "Epoch 9/30\n",
      "36/36 [==============================] - 1s 34ms/step - loss: 81.4186 - val_loss: 71.3900\n",
      "Epoch 10/30\n",
      "36/36 [==============================] - 1s 34ms/step - loss: 66.8404 - val_loss: 64.3631\n",
      "Epoch 11/30\n",
      "36/36 [==============================] - 1s 33ms/step - loss: 48.6073 - val_loss: 50.0813\n",
      "Epoch 12/30\n",
      "36/36 [==============================] - 1s 33ms/step - loss: 65.2591 - val_loss: 52.4732\n",
      "Epoch 13/30\n",
      "36/36 [==============================] - 1s 33ms/step - loss: 34.2210 - val_loss: 53.5448\n",
      "Epoch 14/30\n",
      "36/36 [==============================] - 1s 33ms/step - loss: 28.2957 - val_loss: 48.6123\n",
      "Epoch 15/30\n",
      "36/36 [==============================] - 1s 33ms/step - loss: 21.4478 - val_loss: 66.0595\n",
      "Epoch 16/30\n",
      "36/36 [==============================] - 1s 33ms/step - loss: 18.1432 - val_loss: 78.1772\n",
      "Epoch 17/30\n",
      "36/36 [==============================] - 1s 33ms/step - loss: 16.2643 - val_loss: 48.8375\n",
      "Epoch 18/30\n",
      "36/36 [==============================] - 1s 33ms/step - loss: 18.3027 - val_loss: 69.8299\n",
      "Epoch 19/30\n",
      "36/36 [==============================] - 1s 34ms/step - loss: 20.8344 - val_loss: 63.8337\n",
      "Epoch 20/30\n",
      "36/36 [==============================] - 1s 33ms/step - loss: 19.5242 - val_loss: 49.6984\n",
      "Epoch 21/30\n",
      "36/36 [==============================] - 1s 33ms/step - loss: 17.5270 - val_loss: 51.7147\n",
      "Epoch 22/30\n",
      "36/36 [==============================] - 1s 33ms/step - loss: 13.0372 - val_loss: 41.6232\n",
      "Epoch 23/30\n",
      "36/36 [==============================] - 1s 33ms/step - loss: 10.7171 - val_loss: 44.2097\n",
      "Epoch 24/30\n",
      "36/36 [==============================] - 1s 33ms/step - loss: 8.6783 - val_loss: 45.1958\n",
      "Epoch 25/30\n",
      "36/36 [==============================] - 1s 33ms/step - loss: 8.1684 - val_loss: 44.4510\n",
      "Epoch 26/30\n",
      "36/36 [==============================] - 1s 33ms/step - loss: 10.6704 - val_loss: 43.5937\n",
      "Epoch 27/30\n",
      "36/36 [==============================] - 1s 33ms/step - loss: 9.7429 - val_loss: 44.8895\n",
      "Epoch 28/30\n",
      "36/36 [==============================] - 1s 33ms/step - loss: 12.0935 - val_loss: 136.8746\n",
      "Epoch 29/30\n",
      "36/36 [==============================] - 1s 33ms/step - loss: 16.1677 - val_loss: 46.4461\n",
      "Epoch 30/30\n",
      "36/36 [==============================] - 1s 33ms/step - loss: 10.1891 - val_loss: 42.1978\n"
     ]
    }
   ],
   "source": [
    "# 모델 훈련\n",
    "history = model.fit(X_train, y_train, batch_size=batch_size, epochs=epochs, verbose=1, validation_data=(X_test, y_test))"
   ]
  },
  {
   "cell_type": "code",
   "execution_count": 20,
   "id": "796bcd90",
   "metadata": {},
   "outputs": [
    {
     "data": {
      "image/png": "[encoded data removed]",
      "text/plain": [
       "<Figure size 640x480 with 1 Axes>"
      ]
     },
     "metadata": {},
     "output_type": "display_data"
    }
   ],
   "source": [
    "# Train loss와 Test loss 그래프 출력\n",
    "plt.plot(history.history['loss'], label='Train Loss')\n",
    "plt.plot(history.history['val_loss'], label='Test Loss')\n",
    "plt.title('Model Loss')\n",
    "plt.xlabel('Epoch')\n",
    "plt.ylabel('Loss')\n",
    "plt.legend()\n",
    "plt.show()"
   ]
  },
  {
   "cell_type": "code",
   "execution_count": 21,
   "id": "12538b36",
   "metadata": {},
   "outputs": [],
   "source": [
    "# 예측 결과 확인\n",
    "y_pred = model.predict(X_test)"
   ]
  },
  {
   "cell_type": "code",
   "execution_count": 22,
   "id": "b0a48c28",
   "metadata": {},
   "outputs": [
    {
     "name": "stdout",
     "output_type": "stream",
     "text": [
      "Mean Absolute Error (MAE): 5.561236619949341\n"
     ]
    }
   ],
   "source": [
    "# 평가 지표 계산\n",
    "mae = mean_absolute_error(y_test, y_pred)\n",
    "print('Mean Absolute Error (MAE):', mae)"
   ]
  },
  {
   "cell_type": "code",
   "execution_count": null,
   "id": "63a1a138",
   "metadata": {},
   "outputs": [],
   "source": []
  },
  {
   "cell_type": "code",
   "execution_count": null,
   "id": "15707b35",
   "metadata": {},
   "outputs": [],
   "source": []
  }
 ],
 "metadata": {
  "kernelspec": {
   "display_name": "test",
   "language": "python",
   "name": "test"
  },
  "language_info": {
   "codemirror_mode": {
    "name": "ipython",
    "version": 3
   },
   "file_extension": ".py",
   "mimetype": "text/x-python",
   "name": "python",
   "nbconvert_exporter": "python",
   "pygments_lexer": "ipython3",
   "version": "3.9.16"
  }
 },
 "nbformat": 4,
 "nbformat_minor": 5
}
